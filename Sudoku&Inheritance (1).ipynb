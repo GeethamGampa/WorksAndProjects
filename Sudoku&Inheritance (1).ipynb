{
  "nbformat": 4,
  "nbformat_minor": 0,
  "metadata": {
    "colab": {
      "provenance": []
    },
    "kernelspec": {
      "name": "python3",
      "display_name": "Python 3"
    },
    "language_info": {
      "name": "python"
    }
  },
  "cells": [
    {
      "cell_type": "markdown",
      "source": [
        "# ***9x9 Sudoku***"
      ],
      "metadata": {
        "id": "-F65s5pfwziv"
      }
    },
    {
      "cell_type": "markdown",
      "source": [
        "### ***To calculate space complexity :***\n",
        "\n",
        "***tracemalloc.start()***  *is a function from the tracemalloc module in Python, which is used for tracking memory allocations*"
      ],
      "metadata": {
        "id": "GrWOg6RQ3IXg"
      }
    },
    {
      "cell_type": "code",
      "source": [
        "import time\n",
        "import tracemalloc\n",
        "\n",
        "start_time = time.time()\n",
        "tracemalloc.start()\n",
        "\n",
        "# is_valid checks if placing a number is allowed or not\n",
        "def is_valid(board, row, col, num):\n",
        "    # Check if the number is not repeated in the row\n",
        "    # loops through all columns in the row\n",
        "    for i in range(9):\n",
        "        if board[row][i] == num:\n",
        "            return False # if any cell has same num, return false\n",
        "\n",
        "    # Check if the number is not repeated in the column\n",
        "    # loops through all rows in the column\n",
        "    for i in range(9):\n",
        "        if board[i][col] == num:\n",
        "            return False # if any cell has same num, return false\n",
        "\n",
        "    # Check if the number is not repeated in the 3x3 subgrid\n",
        "    start_row = 3 * (row // 3)\n",
        "    start_col = 3 * (col // 3)\n",
        "    for i in range(start_row, start_row + 3):\n",
        "        for j in range(start_col, start_col + 3):\n",
        "            if board[i][j] == num: # if the number already exists then return false\n",
        "                return False\n",
        "\n",
        "    return True\n",
        "\n",
        "def solve_sudoku(board):\n",
        "    for row in range(9):\n",
        "        for col in range(9):\n",
        "            if board[row][col] == 0:  # Find an empty cell\n",
        "                for num in range(1, 10):  # Try numbers 1 to 9\n",
        "\n",
        "                    # before placing number, we check whether it is safe to place that num or not\n",
        "                    if is_valid(board, row, col, num):\n",
        "                        board[row][col] = num   # if valid, place that number\n",
        "                        if solve_sudoku(board): # calling itself - recursion and tries to solve rest of the sudoku\n",
        "                            return True\n",
        "                        board[row][col] = 0  # if puzzle not solved - Backtrack\n",
        "                return False # if no num works\n",
        "    return True\n",
        "\n",
        "def print_board(board):\n",
        "    for row in board:\n",
        "        print(*row)\n",
        "\n",
        "\n",
        "# Given Sudoku puzzle\n",
        "sudoku = [\n",
        "  [0, 3, 0, 0, 0, 8, 0, 1, 0],\n",
        "  [6, 0, 2, 0, 0, 0, 3, 0, 8],\n",
        "  [0, 9, 0, 0, 4, 0, 0, 6, 0],\n",
        "  [0, 0, 9, 0, 6, 0, 4, 0, 3],\n",
        "  [0, 2, 6, 8, 0, 0, 0, 9, 1],\n",
        "  [0, 0, 3, 0, 0, 4, 8, 0, 0],\n",
        "  [0, 6, 0, 0, 3, 0, 0, 8, 0],\n",
        "  [2, 0, 7, 0, 0, 0, 6, 3, 0],\n",
        "  [0, 4, 0, 0, 8, 0, 0, 0, 9],\n",
        "]\n",
        "\n",
        "if solve_sudoku(sudoku):\n",
        "    print(\"Solution:\")\n",
        "    print_board(sudoku)\n",
        "else:\n",
        "    print(\"No solution\")\n",
        "\n",
        "end_time = time.time()\n",
        "\n",
        "# tracemalloc.get_traced_memory() gives 2 values\n",
        "# Current memory used by your program (in bytes)\n",
        "# Peak memory — the most memory used at any moment during the run\n",
        "# _ ignores the value\n",
        "total_memory, _ = tracemalloc.get_traced_memory()\n",
        "tracemalloc.stop()\n",
        "\n",
        "print(f\"Time taken: {end_time - start_time:.2f} seconds\") # taking upto 2 decimals\n",
        "print(f\"Total memory used: {total_memory / 1024:.2f} KB\") # memory is in bytes, so changing them to kb --> dividing by 1024bytes = 1kb\n",
        "print(f\"Total memory used: {total_memory / (1024 * 1024):.2f} MB\") # 1mb = 1024kb\n"
      ],
      "metadata": {
        "colab": {
          "base_uri": "https://localhost:8080/"
        },
        "id": "-Rm3NuicXJQF",
        "outputId": "1d63862b-019d-4db9-ecc8-ab054e4ebc65"
      },
      "execution_count": null,
      "outputs": [
        {
          "output_type": "stream",
          "name": "stdout",
          "text": [
            "Solution:\n",
            "5 3 4 6 2 8 9 1 7\n",
            "6 1 2 5 7 9 3 4 8\n",
            "7 9 8 3 4 1 2 6 5\n",
            "8 7 9 1 6 2 4 5 3\n",
            "4 2 6 8 5 3 7 9 1\n",
            "1 5 3 7 9 4 8 2 6\n",
            "9 6 1 4 3 7 5 8 2\n",
            "2 8 7 9 1 5 6 3 4\n",
            "3 4 5 2 8 6 1 7 9\n",
            "Time taken: 0.39 seconds\n",
            "Total memory used: 16.27 KB\n",
            "Total memory used: 0.02 MB\n"
          ]
        }
      ]
    },
    {
      "cell_type": "markdown",
      "source": [
        "#🔹***Single Inheritance***"
      ],
      "metadata": {
        "id": "1c7T0qh-A0fq"
      }
    },
    {
      "cell_type": "markdown",
      "source": [
        "##### ***Create a class Person with attributes name and age. Inherit a class Employee that adds salary. Write a method to display all attributes.***\n"
      ],
      "metadata": {
        "id": "tjZI5sjE6xsa"
      }
    },
    {
      "cell_type": "code",
      "source": [
        "class Person:\n",
        "    def __init__(self, name, age):\n",
        "        self.name = name\n",
        "        self.age = age\n",
        "\n",
        "class Employee(Person):\n",
        "    def __init__(self, name, age, salary):\n",
        "        super().__init__(name, age)\n",
        "        self.salary = salary\n",
        "\n",
        "        # method to display all attributes\n",
        "    def display_attributes(self):\n",
        "        print(f\"Name: {self.name}\")\n",
        "        print(f\"Age: {self.age}\")\n",
        "        print(f\"Salary: {self.salary}\")\n",
        "\n",
        "e1 = Employee(\"Casey\", 35, 60000)\n",
        "e1.display_attributes()"
      ],
      "metadata": {
        "colab": {
          "base_uri": "https://localhost:8080/"
        },
        "id": "WRPxgj_f7ehB",
        "outputId": "c31e36d1-2edf-4e74-cd6f-6f203149faf1"
      },
      "execution_count": null,
      "outputs": [
        {
          "output_type": "stream",
          "name": "stdout",
          "text": [
            "Name: Casey\n",
            "Age: 35\n",
            "Salary: 60000\n"
          ]
        }
      ]
    },
    {
      "cell_type": "markdown",
      "source": [
        "##### ***Define a class Animal with a method speak(). Inherit it in class Dog and override the speak() method to print \"Bark\".***"
      ],
      "metadata": {
        "id": "_VT1DPnm8WNE"
      }
    },
    {
      "cell_type": "code",
      "source": [
        "class Animal:\n",
        "    def speak(self):\n",
        "        print(\"The animal speaks\")\n",
        "\n",
        "class Dog(Animal):\n",
        "    def speak(self):\n",
        "        print(\"Bark\")\n",
        "\n",
        "d1 = Dog()\n",
        "d1.speak()"
      ],
      "metadata": {
        "colab": {
          "base_uri": "https://localhost:8080/"
        },
        "id": "GytUM_pm8d7O",
        "outputId": "65a8a72b-7d63-4553-f31b-02c2b4f35985"
      },
      "execution_count": 29,
      "outputs": [
        {
          "output_type": "stream",
          "name": "stdout",
          "text": [
            "Bark\n"
          ]
        }
      ]
    },
    {
      "cell_type": "markdown",
      "source": [
        "##### ***Make a class Vehicle with a method info() that prints \"This is a vehicle\". Create a class Car that inherits Vehicle and adds a method brand() which prints the car's brand.***\n",
        "\n"
      ],
      "metadata": {
        "id": "G7cUXwdK9jrl"
      }
    },
    {
      "cell_type": "code",
      "source": [
        "class Vehicle:\n",
        "    def info(self):\n",
        "        print(\"This is a vehicle\")\n",
        "\n",
        "class Car(Vehicle):\n",
        "    def brand(self):\n",
        "        print(\"The car's brand is Audi\")\n",
        "\n",
        "c1 = Car()\n",
        "# car.info()\n",
        "c1.brand()"
      ],
      "metadata": {
        "colab": {
          "base_uri": "https://localhost:8080/"
        },
        "id": "6HTWWLab9izC",
        "outputId": "2074fcc0-24a4-445f-c69d-5e1d852f3efd"
      },
      "execution_count": 31,
      "outputs": [
        {
          "output_type": "stream",
          "name": "stdout",
          "text": [
            "The car's brand is Audi\n"
          ]
        }
      ]
    },
    {
      "cell_type": "markdown",
      "source": [
        "##### ***Build a class Shape with a method area() that returns 0. Inherit a class Square that overrides area() to return area of a square (given side).***\n"
      ],
      "metadata": {
        "id": "F6atKhRe-E-f"
      }
    },
    {
      "cell_type": "code",
      "source": [
        "class Shape:\n",
        "    def area(self):\n",
        "        return 0\n",
        "\n",
        "class Square(Shape):\n",
        "    def __init__(self, side):\n",
        "        self.side = side\n",
        "\n",
        "    def area(self):\n",
        "        return self.side ** 2 # Area=side^2\n",
        "s1 = Square(3)\n",
        "\n",
        "print(f\"Area of the square: {s1.area()}\")\n"
      ],
      "metadata": {
        "colab": {
          "base_uri": "https://localhost:8080/"
        },
        "id": "Nv7pDb1o-hFQ",
        "outputId": "c8830877-9b56-49a1-ea16-77585563b777"
      },
      "execution_count": 33,
      "outputs": [
        {
          "output_type": "stream",
          "name": "stdout",
          "text": [
            "Area of the square: 9\n"
          ]
        }
      ]
    },
    {
      "cell_type": "markdown",
      "source": [
        "##### ***Write a class Parent with a private variable and a getter method. Inherit a class Child and access the private variable via the getter.***"
      ],
      "metadata": {
        "id": "FMxfp67s_biR"
      }
    },
    {
      "cell_type": "code",
      "source": [
        "class Parent:\n",
        "    def __init__(self, name):\n",
        "        self.__name = name  # Private variable\n",
        "\n",
        "    def get_name(self):\n",
        "        return self.__name  # Getter method to access the private variable\n",
        "\n",
        "class Child(Parent):\n",
        "    def __init__(self, name, age):\n",
        "        super().__init__(name)  # Call Parent class constructor\n",
        "        self.age = age\n",
        "\n",
        "    def display(self):\n",
        "        print(f\"Name: {self.get_name()}, Age: {self.age}\")\n",
        "\n",
        "\n",
        "c1 = Child(\"Charli\", 10)\n",
        "# Access the private variable of Parent using the getter method\n",
        "c1.display()\n"
      ],
      "metadata": {
        "id": "FCJq2EuZ_iPv",
        "colab": {
          "base_uri": "https://localhost:8080/"
        },
        "outputId": "ae439595-b9f3-4e82-89d7-22d46ec640f1"
      },
      "execution_count": 27,
      "outputs": [
        {
          "output_type": "stream",
          "name": "stdout",
          "text": [
            "Name: Charli, Age: 10\n"
          ]
        }
      ]
    },
    {
      "cell_type": "markdown",
      "source": [
        "# 🔸***Multiple Inheritance***"
      ],
      "metadata": {
        "id": "QiGq7FzqBDnI"
      }
    },
    {
      "cell_type": "markdown",
      "source": [
        "##### ***Create two classes Writer and Editor, each with a method role(). Inherit a class Author from both and override role() to describe an author's combined role.***\n"
      ],
      "metadata": {
        "id": "GkjtFAdpBJFU"
      }
    },
    {
      "cell_type": "code",
      "source": [
        "# Parent Class 1\n",
        "class Writer:\n",
        "    def role(self):\n",
        "        print(\"The writer creates content.\")\n",
        "\n",
        "# Parent Class 2\n",
        "class Editor:\n",
        "    def role(self):\n",
        "        print(\"The editor edits content.\")\n",
        "\n",
        "# Child Class\n",
        "class Author(Writer, Editor):\n",
        "    def role(self):\n",
        "        print(\"The author both creates and edits content.\")\n",
        "\n",
        "a1= Author()\n",
        "a1.role()\n"
      ],
      "metadata": {
        "id": "K6ia9d3QBPr-",
        "colab": {
          "base_uri": "https://localhost:8080/"
        },
        "outputId": "e9102390-3ec5-4d00-d5d5-8cc249dada24"
      },
      "execution_count": 3,
      "outputs": [
        {
          "output_type": "stream",
          "name": "stdout",
          "text": [
            "The author both creates and edits content.\n"
          ]
        }
      ]
    },
    {
      "cell_type": "markdown",
      "source": [
        "##### ***Define a class MathTeacher with a method teach(), and another class BasketballCoach with train(). Make a SchoolStaff class that inherits both and uses both methods.***\n"
      ],
      "metadata": {
        "id": "2Pwo6CsbBQdc"
      }
    },
    {
      "cell_type": "code",
      "source": [
        "# Parent Class 1\n",
        "class MathTeacher:\n",
        "    def teach(self):\n",
        "        print(\"Teach Mathematics to the students.\")\n",
        "\n",
        "# Parent Class 2\n",
        "class BasketballCoach:\n",
        "    def train(self):\n",
        "        print(\"Train students for basketball.\")\n",
        "\n",
        "# Child Class\n",
        "class SchoolStaff(MathTeacher, BasketballCoach):\n",
        "    # No new method is required because it inherits both teach() and train()\n",
        "    pass\n",
        "\n",
        "s1 = SchoolStaff()\n",
        "s1.teach()\n",
        "s1.train()\n"
      ],
      "metadata": {
        "id": "9GA5rdAHBVN3",
        "colab": {
          "base_uri": "https://localhost:8080/"
        },
        "outputId": "bbfc2a6a-3edc-4a5c-c1d5-dbd31880dc69"
      },
      "execution_count": 39,
      "outputs": [
        {
          "output_type": "stream",
          "name": "stdout",
          "text": [
            "Teach Mathematics to the students.\n",
            "Train students for basketball.\n"
          ]
        }
      ]
    },
    {
      "cell_type": "markdown",
      "source": [
        "##### ***Create classes A and B with a method say() that prints different messages. Inherit class C(A, B) and call say(). What gets printed?***"
      ],
      "metadata": {
        "id": "LwFW-09ABVsG"
      }
    },
    {
      "cell_type": "code",
      "source": [
        "class A:\n",
        "    def say(self):\n",
        "        print(\"Hi from A\")\n",
        "\n",
        "class B:\n",
        "    def say(self):\n",
        "        print(\"Hey from B\")\n",
        "\n",
        "class C(A, B):\n",
        "    pass\n",
        "\n",
        "# class C(B, A):\n",
        "#     pass\n",
        "\n",
        "c1 = C()\n",
        "c1.say()\n"
      ],
      "metadata": {
        "id": "BUhMLFlOBbxJ",
        "colab": {
          "base_uri": "https://localhost:8080/"
        },
        "outputId": "5de4ff2f-d8c7-436e-b931-56343dab28ac"
      },
      "execution_count": 42,
      "outputs": [
        {
          "output_type": "stream",
          "name": "stdout",
          "text": [
            "Hi from A\n"
          ]
        }
      ]
    },
    {
      "cell_type": "markdown",
      "source": [
        "##### ***Simulate a class Person and class Athlete. Make a subclass StudentAthlete that inherits from both, and demonstrate accessing attributes/methods from both base classes.***\n"
      ],
      "metadata": {
        "id": "G8y2IXTSBhC8"
      }
    },
    {
      "cell_type": "code",
      "source": [
        "# Parent class 1\n",
        "class Person:\n",
        "    def __init__(self, name, age):\n",
        "        self.name = name\n",
        "        self.age = age\n",
        "\n",
        "    def intro(self):\n",
        "        print(f\"My name is {self.name} and I am {self.age} years old.\")\n",
        "\n",
        "# Parent class 2\n",
        "class Athlete:\n",
        "    def __init__(self, sport):\n",
        "        self.sport = sport\n",
        "\n",
        "    def play(self):\n",
        "        print(f\"I play {self.sport}.\")\n",
        "\n",
        "# Child class - inherits from both Person and Athlete\n",
        "class StudentAthlete(Person, Athlete):\n",
        "    def __init__(self, name, age, sport, team):\n",
        "        Person.__init__(self, name, age)\n",
        "        Athlete.__init__(self, sport)\n",
        "        self.team = team\n",
        "\n",
        "    def train(self):\n",
        "        print(f\"I train with {self.team} team.\")\n",
        "\n",
        "\n",
        "s1 = StudentAthlete(\"Max\", 25, \"Basketball\", \"Lions\")\n",
        "\n",
        "s1.intro()\n",
        "s1.play()\n",
        "s1.train()\n"
      ],
      "metadata": {
        "id": "YYW5vc-dBlgD",
        "colab": {
          "base_uri": "https://localhost:8080/"
        },
        "outputId": "1a0182f2-1997-4068-80da-da8f80d87ce4"
      },
      "execution_count": 11,
      "outputs": [
        {
          "output_type": "stream",
          "name": "stdout",
          "text": [
            "My name is Max and I am 25 years old.\n",
            "I play Basketball.\n",
            "I train with Lions team.\n"
          ]
        }
      ]
    },
    {
      "cell_type": "markdown",
      "source": [
        "# 🔹***Multilevel Inheritance***"
      ],
      "metadata": {
        "id": "79IPE8dTBl9u"
      }
    },
    {
      "cell_type": "markdown",
      "source": [
        "##### ***Create a class Grandparent with a method history(). Inherit Parent from it and add legacy(). Inherit Child from Parent and add future(). Call all three methods from a Child object***"
      ],
      "metadata": {
        "id": "AF1ztvRfBsZL"
      }
    },
    {
      "cell_type": "code",
      "source": [
        "class Grandparent:\n",
        "    def history(self):\n",
        "        print(\"Grandparent: Our family have a great history.\")\n",
        "\n",
        "class Parent(Grandparent):\n",
        "    def legacy(self):\n",
        "        print(\"Parent: My son carry our family's legacy.\")\n",
        "\n",
        "class Child(Parent):\n",
        "    def future(self):\n",
        "        print(\"Child: I will shape my future.\")\n",
        "\n",
        "# Create an object of Child\n",
        "child_obj= Child()\n",
        "\n",
        "# Call all three methods\n",
        "child_obj.history()\n",
        "child_obj.legacy()\n",
        "child_obj.future()\n"
      ],
      "metadata": {
        "id": "WEd-2ESVB8_Z",
        "colab": {
          "base_uri": "https://localhost:8080/"
        },
        "outputId": "99272ce4-349e-4a96-e87d-2f8987f4394b"
      },
      "execution_count": 1,
      "outputs": [
        {
          "output_type": "stream",
          "name": "stdout",
          "text": [
            "Grandparent: Our family have a great history.\n",
            "Parent: My son carry our family's legacy.\n",
            "Child: I will shape my future.\n"
          ]
        }
      ]
    },
    {
      "cell_type": "markdown",
      "source": [
        "##### ***Make a base class Device with a method specs(). Inherit Phone from Device, and Smartphone from Phone. Override specs() at each level and see which one gets called.***\n"
      ],
      "metadata": {
        "id": "aPgeK64PB9YH"
      }
    },
    {
      "cell_type": "code",
      "source": [
        "class Device:\n",
        "    def specs(self):\n",
        "        print(\"Device specifications.\")\n",
        "\n",
        "class Phone(Device):\n",
        "    def specs(self):\n",
        "        print(\"Phone specifications.\")\n",
        "\n",
        "class Smartphone(Phone):\n",
        "    def specs(self):\n",
        "        print(\"Smartphone specifications.\")\n",
        "\n",
        "# Create objects\n",
        "d1 = Device()\n",
        "p1 = Phone()\n",
        "s1 = Smartphone()\n",
        "\n",
        "# Call specs() method from each object\n",
        "d1.specs()\n",
        "p1.specs()\n",
        "s1.specs()\n"
      ],
      "metadata": {
        "id": "U9EO0lqqCCBA",
        "colab": {
          "base_uri": "https://localhost:8080/"
        },
        "outputId": "d04fc7db-01ca-453c-b317-f446489677a7"
      },
      "execution_count": 43,
      "outputs": [
        {
          "output_type": "stream",
          "name": "stdout",
          "text": [
            "Device specifications.\n",
            "Phone specifications.\n",
            "Smartphone specifications.\n"
          ]
        }
      ]
    },
    {
      "cell_type": "markdown",
      "source": [
        "##### ***Design a multilevel class structure: Organism -> Animal -> Human, each with a method info(). Override the method at each level and call info() from a Human object.***"
      ],
      "metadata": {
        "id": "nsFt9TM_CCh0"
      }
    },
    {
      "cell_type": "code",
      "source": [
        "class Organism:\n",
        "    def info(self):\n",
        "        print(\"Living organism.\")\n",
        "\n",
        "class Animal(Organism):\n",
        "    def info(self):\n",
        "        print(\"I am an animal\")\n",
        "\n",
        "class Human(Animal):\n",
        "    def info(self):\n",
        "        print(\"I am a human\")\n",
        "\n",
        "# Create an object\n",
        "h1 = Human()\n",
        "h1.info()\n"
      ],
      "metadata": {
        "id": "0qo_Xq83CGgy",
        "colab": {
          "base_uri": "https://localhost:8080/"
        },
        "outputId": "36c00154-cd8d-4d4f-fe1b-8609555188d1"
      },
      "execution_count": 2,
      "outputs": [
        {
          "output_type": "stream",
          "name": "stdout",
          "text": [
            "I am a human\n"
          ]
        }
      ]
    },
    {
      "cell_type": "markdown",
      "source": [
        "##### ***Implement a multilevel inheritance where the base class University has details like name and location, College inherits it with department info, and Student inherits College with personal details. Print complete student info.***\n"
      ],
      "metadata": {
        "id": "YFuUyS21CG27"
      }
    },
    {
      "cell_type": "code",
      "source": [
        "class University:\n",
        "    def __init__(self, name, location):\n",
        "        self.name = name\n",
        "        self.location = location\n",
        "\n",
        "    def university_info(self):\n",
        "        print(f\"University: {self.name}\")\n",
        "        print(f\"Location: {self.location}\")\n",
        "\n",
        "class College(University):\n",
        "    def __init__(self, name, location, department):\n",
        "        super().__init__(name, location)\n",
        "        self.department = department\n",
        "\n",
        "    def college_info(self):\n",
        "        print(f\"Department: {self.department}\")\n",
        "\n",
        "class Student(College):\n",
        "    def __init__(self, name, location, department, student_name, age, roll_call):\n",
        "        super().__init__(name, location, department)\n",
        "        self.student_name = student_name\n",
        "        self.age = age\n",
        "        self.roll_number = roll_call\n",
        "\n",
        "    def student_info(self):\n",
        "        self.university_info()\n",
        "        self.college_info()\n",
        "        print(f\"Student Name: {self.student_name}\")\n",
        "        print(f\"Age: {self.age}\")\n",
        "        print(f\"Roll Call: {self.roll_number}\")\n",
        "\n",
        "s1 = Student(\"XYZ University\", \"California\", \"Computer Science\", \"Megha\", 20, \"CSC123\")\n",
        "s1.student_info()\n"
      ],
      "metadata": {
        "id": "tgp2J3pfCRV0",
        "colab": {
          "base_uri": "https://localhost:8080/"
        },
        "outputId": "3cc12af3-8630-44ff-fcaa-679fbe18c8c1"
      },
      "execution_count": 3,
      "outputs": [
        {
          "output_type": "stream",
          "name": "stdout",
          "text": [
            "University: XYZ University\n",
            "Location: California\n",
            "Department: Computer Science\n",
            "Student Name: Megha\n",
            "Age: 20\n",
            "Roll Call: CSC123\n"
          ]
        }
      ]
    },
    {
      "cell_type": "markdown",
      "source": [
        "##### ***Write a multilevel inheritance example with a class A having a method greet(), B(A) adding introduce(), and C(B) adding describe(). Call all three methods from an object of class C.***"
      ],
      "metadata": {
        "id": "cL_d2KAZCLlP"
      }
    },
    {
      "cell_type": "markdown",
      "source": [
        "# **Steps Breakdown**\n",
        "\n",
        "> *Class A has a method greet().*\n",
        "\n",
        "> *Class B inherits from A and adds introduce() method.*\n",
        "\n",
        "> *Class C inherits from B and adds describe() method.*\n",
        "\n",
        "> *Finally, we create an object of class C and call all three methods.*"
      ],
      "metadata": {
        "id": "ZjmdpfM90NEW"
      }
    },
    {
      "cell_type": "code",
      "source": [
        "class A:\n",
        "    def greet(self):\n",
        "        print(\"Hello I am class A\")\n",
        "\n",
        "class B(A):\n",
        "    def introduce(self):\n",
        "        print(\"Hey, I am Class B\")\n",
        "\n",
        "class C(B):\n",
        "    def describe(self):\n",
        "        print(\"Hi, I am Class C\")\n",
        "\n",
        "# Create an object\n",
        "c1 = C()\n",
        "\n",
        "# Calling methods from class A,B,C\n",
        "c1.greet()\n",
        "c1.introduce()\n",
        "c1.describe()\n"
      ],
      "metadata": {
        "id": "D07C34iWCTNz",
        "colab": {
          "base_uri": "https://localhost:8080/"
        },
        "outputId": "c92aa3d2-4ef2-4c58-8da5-f7e30b8f2d30"
      },
      "execution_count": 8,
      "outputs": [
        {
          "output_type": "stream",
          "name": "stdout",
          "text": [
            "Hello I am class A\n",
            "Hey, I am Class B\n",
            "Hi, I am Class C\n"
          ]
        }
      ]
    }
  ]
}