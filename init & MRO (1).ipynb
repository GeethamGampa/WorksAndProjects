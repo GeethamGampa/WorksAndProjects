{
  "nbformat": 4,
  "nbformat_minor": 0,
  "metadata": {
    "colab": {
      "provenance": [],
      "authorship_tag": "ABX9TyOPTiH3ewWI8XNJMAcjvk9o",
      "include_colab_link": true
    },
    "kernelspec": {
      "name": "python3",
      "display_name": "Python 3"
    },
    "language_info": {
      "name": "python"
    }
  },
  "cells": [
    {
      "cell_type": "markdown",
      "metadata": {
        "id": "view-in-github",
        "colab_type": "text"
      },
      "source": [
        "<a href=\"https://colab.research.google.com/github/GeethamGampa/MyWorksAndProjects/blob/main/Work_N.ipynb\" target=\"_parent\"><img src=\"https://colab.research.google.com/assets/colab-badge.svg\" alt=\"Open In Colab\"/></a>"
      ]
    },
    {
      "cell_type": "markdown",
      "source": [
        "__init__(Constructor)\n",
        "\n",
        "-> purpose -> intilizes the object attribute\n",
        "\n",
        "-> Automatic calls\n",
        "\n",
        "-> Naming: __init__\n",
        "\n",
        "-> Parameters: self, intialize object attributes\n",
        "\n",
        "-> Return Value: return value will be not there\n",
        "\n",
        "Method:\n",
        "\n",
        "purpose ->  performs specific action on an object\n",
        "\n",
        "Automatic calls -> Must be explicity called after object creation\n",
        "\n",
        "Name -> Without keywords, write a name in a specific mannar which can elaborate the object\n",
        "\n",
        "Parameters: depending upon the perform action\n",
        "\n",
        "Return Value: Return will be there"
      ],
      "metadata": {
        "id": "zvAUOm0zcMf0"
      }
    },
    {
      "cell_type": "code",
      "execution_count": null,
      "metadata": {
        "colab": {
          "base_uri": "https://localhost:8080/"
        },
        "id": "A8kZ--w9aqoa",
        "outputId": "693c9301-9512-45a9-8b2e-fca673dadac9"
      },
      "outputs": [
        {
          "output_type": "stream",
          "name": "stdout",
          "text": [
            "Name: Harry\n",
            "Age: 25\n"
          ]
        }
      ],
      "source": [
        "class Person:\n",
        "    def display(self, name, age):\n",
        "        print(\"Name:\", name)\n",
        "        print(\"Age:\", age)\n",
        "p1 = Person()\n",
        "p1.display(\"Harry\", 25)\n"
      ]
    },
    {
      "cell_type": "code",
      "source": [
        "class Person:\n",
        "    def __init__(self, name, age):\n",
        "        self.name = name\n",
        "        self.age = age\n",
        "\n",
        "    def display_info(self):\n",
        "        print(\"Name:\", self.name)\n",
        "        print(\"Age:\", self.age)\n",
        "p1 = Person(\"Harry\", 25)\n",
        "p1.display_info()\n"
      ],
      "metadata": {
        "colab": {
          "base_uri": "https://localhost:8080/"
        },
        "id": "vvkAqoHybZ5E",
        "outputId": "5a3edf23-d59d-4043-8826-6f13b3e888dc"
      },
      "execution_count": null,
      "outputs": [
        {
          "output_type": "stream",
          "name": "stdout",
          "text": [
            "Name: Harry\n",
            "Age: 25\n"
          ]
        }
      ]
    },
    {
      "cell_type": "markdown",
      "source": [
        "# ***Method Resolution Order***\n",
        "\n",
        ">"
      ],
      "metadata": {
        "id": "2ONW3bLUcaly"
      }
    },
    {
      "cell_type": "markdown",
      "source": [
        "Step by step process is MRO method\n",
        "Like Grandpa --> Father --> Child"
      ],
      "metadata": {
        "id": "Y6S71AAIgGCF"
      }
    },
    {
      "cell_type": "code",
      "source": [
        "class Parent1:\n",
        "  def print_object1(self):\n",
        "    print(\"Parent1\")\n",
        "  def print_object2(self):\n",
        "    print(\"Parent1\")\n",
        "\n",
        "class Parent2(Parent1):\n",
        "  def print_object1(self):\n",
        "    print(\"Parent2\")\n",
        "\n",
        "\n",
        "class Child(Parent1):\n",
        "  def print_object1(self):\n",
        "    print(\"Child\")\n",
        "\n",
        "  def print_object2(self):\n",
        "    print(\"Child\")\n",
        "\n",
        "class Child2(Parent2, Child):\n",
        "  pass\n",
        "\n",
        "d = Child2()\n",
        "# d.print_object1()\n",
        "d.print_object2()\n",
        "\n",
        "\n"
      ],
      "metadata": {
        "colab": {
          "base_uri": "https://localhost:8080/"
        },
        "id": "lJqATLU9cJuH",
        "outputId": "cc2a79e5-63f2-46d0-b52a-6f75f5027b4e"
      },
      "execution_count": null,
      "outputs": [
        {
          "output_type": "stream",
          "name": "stdout",
          "text": [
            "Child\n"
          ]
        }
      ]
    },
    {
      "cell_type": "code",
      "source": [
        "class Calculator:\n",
        "    def add(self, a, b=0, c=0):\n",
        "        return a + b + c\n",
        "calc = Calculator()\n",
        "print(calc.add(10))\n",
        "print(calc.add(10, 5,1))\n",
        "# print(calc.add(10, 20, 30))"
      ],
      "metadata": {
        "colab": {
          "base_uri": "https://localhost:8080/"
        },
        "id": "HYhV569BmVZA",
        "outputId": "17c67cac-44a5-4305-bfc6-dadb5d27b416"
      },
      "execution_count": null,
      "outputs": [
        {
          "output_type": "stream",
          "name": "stdout",
          "text": [
            "10\n",
            "16\n"
          ]
        }
      ]
    },
    {
      "cell_type": "code",
      "source": [
        "class Animal:\n",
        "    def sounds(self):\n",
        "      return \"Some Sound\"\n",
        "\n",
        "class Dog(Animal):\n",
        "  def sounds(self):\n",
        "    return \"Bow\"\n",
        "\n",
        "class Cat(Animal):\n",
        "  def sounds(self):\n",
        "    return \"meow\"\n",
        "\n",
        "animal = Animal()\n",
        "dog = Dog()\n",
        "cat = Cat()\n",
        "\n",
        "print(animal.sounds())\n",
        "print(dog.sounds())\n",
        "print(cat.sounds())"
      ],
      "metadata": {
        "colab": {
          "base_uri": "https://localhost:8080/"
        },
        "id": "z5oLtVdrnEVK",
        "outputId": "3405b5b7-5f44-48dd-a2cb-0600928364a6"
      },
      "execution_count": null,
      "outputs": [
        {
          "output_type": "stream",
          "name": "stdout",
          "text": [
            "Some Sound\n",
            "Bow\n",
            "meow\n"
          ]
        }
      ]
    },
    {
      "cell_type": "code",
      "source": [
        "# Duck Typing Example\n",
        "\n",
        "class Dog:\n",
        "  def speak(self):\n",
        "    return \"Bow Bow\"\n",
        "\n",
        "class Cat:\n",
        "  def speak(self):\n",
        "    return \"Meow Meow\"\n",
        "\n",
        "class Duck:\n",
        "  def speak(self):\n",
        "    return \"Quack Quack\"\n",
        "\n",
        "class Frog:\n",
        "  def speak(self):\n",
        "    return \"Ribbit Ribbit\"\n",
        "\n",
        "\n",
        "def make_sound(animal):\n",
        "  return animal.speak()\n",
        "\n",
        "\n",
        "# dog = Dog()\n",
        "# cat = Cat()\n",
        "# duck = Duck()\n",
        "# frog = Frog()\n",
        "\n",
        "\n",
        "print(make_sound(dog))\n",
        "print(make_sound(cat))\n",
        "print(make_sound(duck))\n",
        "print(make_sound(frog))\n"
      ],
      "metadata": {
        "colab": {
          "base_uri": "https://localhost:8080/"
        },
        "id": "Alw4oL_kq1Z8",
        "outputId": "2776e9d9-f69d-4576-b08b-082087ae0be7"
      },
      "execution_count": null,
      "outputs": [
        {
          "output_type": "stream",
          "name": "stdout",
          "text": [
            "Bow Bow\n",
            "Meow Meow\n",
            "Quack Quack\n",
            "Ribbit Ribbit\n"
          ]
        }
      ]
    },
    {
      "cell_type": "code",
      "source": [
        "# Duck Typing Example\n",
        "\n",
        "class Dog:\n",
        "  def speak(self):\n",
        "    return \"Bow Bow\"\n",
        "\n",
        "class Cat:\n",
        "  def speak(self):\n",
        "    return \"Meow Meow\"\n",
        "\n",
        "class Duck:\n",
        "  def speak(self):\n",
        "    return \"Quack Quack\"\n",
        "\n",
        "class Frog:\n",
        "  def speak(self):\n",
        "    return \"Ribbit Ribbit\"\n",
        "\n",
        "def make_sound(animal):\n",
        "  return animal.speak()\n",
        "\n",
        "dog = Dog()\n",
        "cat = Cat()\n",
        "duck = Duck()\n",
        "frog = Frog()\n",
        "\n",
        "print(make_sound(dog))\n",
        "print(make_sound(cat))\n",
        "print(make_sound(duck))\n",
        "print(make_sound(frog))\n"
      ],
      "metadata": {
        "colab": {
          "base_uri": "https://localhost:8080/"
        },
        "id": "5UXn-sJjrdvm",
        "outputId": "21975ddd-0a60-4ad7-c8ed-dc45dce7996a"
      },
      "execution_count": null,
      "outputs": [
        {
          "output_type": "stream",
          "name": "stdout",
          "text": [
            "Bow Bow\n",
            "Meow Meow\n",
            "Quack Quack\n",
            "Ribbit Ribbit\n"
          ]
        }
      ]
    },
    {
      "cell_type": "code",
      "source": [
        "class Shape:\n",
        "    def area(self):\n",
        "        pass\n",
        "\n",
        "class Square(Shape):\n",
        "    def __init__(self, side):\n",
        "        self.side = side\n",
        "\n",
        "    def area(self):\n",
        "        return self.side * self.side\n",
        "\n",
        "class Circle(Shape):\n",
        "    def __init__(self, radius):\n",
        "        self.radius = radius\n",
        "\n",
        "    def area(self):\n",
        "        return 3.14 * self.radius * self.radius\n",
        "\n",
        "s = Square(5)\n",
        "c = Circle(2)\n",
        "\n",
        "print(\"Area of Square:\", s.area())\n",
        "print(\"Area of Circle:\", c.area())"
      ],
      "metadata": {
        "colab": {
          "base_uri": "https://localhost:8080/"
        },
        "id": "eswYnT8zvN9V",
        "outputId": "89aad885-1a6d-4d6b-b394-7a235ae753b9"
      },
      "execution_count": null,
      "outputs": [
        {
          "output_type": "stream",
          "name": "stdout",
          "text": [
            "Area of Square: 25\n",
            "Area of Circle: 12.56\n"
          ]
        }
      ]
    },
    {
      "cell_type": "code",
      "source": [
        "class P:\n",
        "  def display(self):\n",
        "    print(\"Inside P\")\n",
        "\n",
        "class Q(P):\n",
        "  def display(self):\n",
        "    print(\"Inside Q\")\n",
        "\n",
        "class R(P):\n",
        "  pass\n",
        "\n",
        "class S(Q,R):\n",
        "  pass\n",
        "\n",
        "s = S()\n",
        "s.display()\n",
        "\n",
        "# print(S.__mro__)\n",
        "\n"
      ],
      "metadata": {
        "colab": {
          "base_uri": "https://localhost:8080/"
        },
        "id": "c6mpozhyULBB",
        "outputId": "12f19fea-4dc2-4a62-8025-db6a3c2d24cd"
      },
      "execution_count": null,
      "outputs": [
        {
          "output_type": "stream",
          "name": "stdout",
          "text": [
            "Inside Q\n",
            "(<class '__main__.S'>, <class '__main__.Q'>, <class '__main__.R'>, <class '__main__.P'>, <class 'object'>)\n"
          ]
        }
      ]
    },
    {
      "cell_type": "code",
      "source": [
        "class Animal:\n",
        "  def speak(self):\n",
        "    print(\"Animal speaks\")\n",
        "\n",
        "class Dog(Animal):\n",
        "  pass\n",
        "\n",
        "d= Dog()\n",
        "d.speak()"
      ],
      "metadata": {
        "colab": {
          "base_uri": "https://localhost:8080/"
        },
        "id": "4b3b6Fo4V93y",
        "outputId": "8d2ea2c1-3940-45dc-fb4c-fbbcf0d17826"
      },
      "execution_count": null,
      "outputs": [
        {
          "output_type": "stream",
          "name": "stdout",
          "text": [
            "Animal speaks\n"
          ]
        }
      ]
    },
    {
      "cell_type": "code",
      "source": [
        "class Parent:\n",
        "  def __init__(self):\n",
        "    print(\"Parent Constructor\")\n",
        "\n",
        "class Child(Parent):\n",
        "  def __init__(self):\n",
        "    # super().__init__()\n",
        "    print(\"Child Constructor\")\n",
        "\n",
        "c = Child()"
      ],
      "metadata": {
        "colab": {
          "base_uri": "https://localhost:8080/"
        },
        "id": "bgjLMUd6WPPv",
        "outputId": "44970942-61f0-44e7-ec82-598249be7ced"
      },
      "execution_count": null,
      "outputs": [
        {
          "output_type": "stream",
          "name": "stdout",
          "text": [
            "Child Constructor\n"
          ]
        }
      ]
    },
    {
      "cell_type": "code",
      "source": [
        "class Parent:\n",
        "  def greet(self):\n",
        "    print(\"Hello from Parent\")\n",
        "\n",
        "class Child(Parent):\n",
        "  def greet(self):\n",
        "    print(\"Hello from Child\")\n",
        "\n",
        "    Parent.greet(self)\n",
        "    super().greet()\n",
        "obj = Child()\n",
        "obj.greet()\n"
      ],
      "metadata": {
        "colab": {
          "base_uri": "https://localhost:8080/"
        },
        "id": "gK5KgR5cXbNm",
        "outputId": "94195b1a-3b1f-4b21-bddc-eceee076fc1a"
      },
      "execution_count": null,
      "outputs": [
        {
          "output_type": "stream",
          "name": "stdout",
          "text": [
            "Hello from Child\n",
            "Hello from Parent\n",
            "Hello from Parent\n"
          ]
        }
      ]
    },
    {
      "cell_type": "code",
      "source": [
        "# Duck Typing Example\n",
        "\n",
        "class wallet:\n",
        "  def purpose(self):\n",
        "    return \"it is wallet\"\n",
        "  def add_some_money(self):\n",
        "    return 20\n",
        "\n",
        "class purse:\n",
        "  def purpose(self):\n",
        "    return \"it is purse\"\n",
        "  def add_some_money(self):\n",
        "    return 40\n",
        "\n",
        "class bank:\n",
        "  def purpose(self):\n",
        "    return \"it is a bank\"\n",
        "  def add_some_money(self):\n",
        "    return 60\n",
        "\n",
        "def make_sound(structure):\n",
        "  return structure.purpose()\n",
        "\n",
        "def make_count(structure):\n",
        "  return structure.add_some_money()\n",
        "\n",
        "wallet = wallet()\n",
        "purse = purse()\n",
        "bank = bank()\n",
        "\n",
        "print(\"make sound :\", make_sound(wallet))\n",
        "print(make_sound(purse))\n",
        "print(make_sound(bank))\n",
        "\n",
        "print(\"make count:\", make_count(wallet))\n",
        "print(make_count(purse))\n",
        "print(make_count(bank))"
      ],
      "metadata": {
        "colab": {
          "base_uri": "https://localhost:8080/"
        },
        "id": "nHSlx7UL_n7c",
        "outputId": "0799e12f-5c8d-4675-90ed-7399ca1d17c8"
      },
      "execution_count": null,
      "outputs": [
        {
          "output_type": "stream",
          "name": "stdout",
          "text": [
            "make sound : it is wallet\n",
            "it is purse\n",
            "it is a bank\n",
            "make count: 20\n",
            "40\n",
            "60\n"
          ]
        }
      ]
    },
    {
      "cell_type": "code",
      "source": [
        "class A:\n",
        "    def rk(self):\n",
        "        print(\"In class A\")\n",
        "\n",
        "class B(A):\n",
        "    def rk(self):\n",
        "        print(\"In class B\")\n",
        "\n",
        "class C(A):\n",
        "    def rk(self):\n",
        "        print(\"In class C\")\n",
        "\n",
        "# classes ordering\n",
        "class D(B, C):\n",
        "    pass\n",
        "\n",
        "r = D()\n",
        "r.rk()"
      ],
      "metadata": {
        "colab": {
          "base_uri": "https://localhost:8080/"
        },
        "id": "uMpBDe-MI31M",
        "outputId": "1515b767-651d-44f3-c713-f787ecb40899"
      },
      "execution_count": null,
      "outputs": [
        {
          "output_type": "stream",
          "name": "stdout",
          "text": [
            "In class B\n"
          ]
        }
      ]
    },
    {
      "cell_type": "code",
      "source": [
        "# Extends\n",
        "# self -> when creating object, self calls itself\n",
        "\n",
        "class Animal:\n",
        "\n",
        "  def __init__(self, name):\n",
        "    self.name = name\n",
        "\n",
        "  def speak(self):\n",
        "    return \"Animal Sound\"\n",
        "\n",
        "class Dog(Animal):\n",
        "  # species = \"C\" # class variable\n",
        "  def __init__(self, name, breed):\n",
        "  # def __init__(Dog, name, breed):\n",
        "    super().__init__(name)\n",
        "    # super().__init__(species)\n",
        "    # Animal.__init__(self, name)\n",
        "    self.breed = breed\n",
        "\n",
        "\n",
        "  def speak(self):\n",
        "     breed = self.breed\n",
        "     n = self.name\n",
        "\n",
        "     return n, breed, \"Bow bow\"\n",
        "\n",
        "dog = Dog(\"Tommy\", \"Lab\")\n",
        "\n",
        "dog.speak()\n"
      ],
      "metadata": {
        "colab": {
          "base_uri": "https://localhost:8080/"
        },
        "id": "pAXPB8aFLnhx",
        "outputId": "b8fe62dc-44b9-4d63-ec7c-333509288767"
      },
      "execution_count": null,
      "outputs": [
        {
          "output_type": "execute_result",
          "data": {
            "text/plain": [
              "('Tommy', 'Lab', 'Bow bow')"
            ]
          },
          "metadata": {},
          "execution_count": 37
        }
      ]
    },
    {
      "cell_type": "markdown",
      "source": [
        "\n"
      ],
      "metadata": {
        "id": "RgYE_Yw7Q3kg"
      }
    },
    {
      "cell_type": "code",
      "source": [
        "# Hierarchy Inheritance :  multiple childs and one parent\n",
        "# Hybrid : combination of 2 or more types of inheritances"
      ],
      "metadata": {
        "id": "oTJ7oCeQQ1KL"
      },
      "execution_count": null,
      "outputs": []
    }
  ]
}