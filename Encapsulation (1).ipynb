{
  "nbformat": 4,
  "nbformat_minor": 0,
  "metadata": {
    "colab": {
      "provenance": [],
      "authorship_tag": "ABX9TyPhEdGIjqxj0FAd88x9H+Wk",
      "include_colab_link": true
    },
    "kernelspec": {
      "name": "python3",
      "display_name": "Python 3"
    },
    "language_info": {
      "name": "python"
    }
  },
  "cells": [
    {
      "cell_type": "markdown",
      "metadata": {
        "id": "view-in-github",
        "colab_type": "text"
      },
      "source": [
        "<a href=\"https://colab.research.google.com/github/GeethamGampa/InClass/blob/main/InClass_1.ipynb\" target=\"_parent\"><img src=\"https://colab.research.google.com/assets/colab-badge.svg\" alt=\"Open In Colab\"/></a>"
      ]
    },
    {
      "cell_type": "markdown",
      "source": [
        "# ***Encapsulation***\n",
        "\n",
        "> *Data Hiding (PII) -> if in super class, we get only the output but not the PII data.*\n",
        "\n",
        "> *Private class -> keyword*\n",
        "\n",
        "> *functionality shows, hides data.*"
      ],
      "metadata": {
        "id": "IRnwiD1XnJET"
      }
    },
    {
      "cell_type": "code",
      "execution_count": 2,
      "metadata": {
        "colab": {
          "base_uri": "https://localhost:8080/"
        },
        "id": "_qPz2ykbKj-c",
        "outputId": "7a3d5d87-b5f7-458f-debf-218d81032fe0"
      },
      "outputs": [
        {
          "output_type": "stream",
          "name": "stdout",
          "text": [
            "John\n",
            "John\n"
          ]
        }
      ],
      "source": [
        "class Public:\n",
        "  def __init__(self):\n",
        "    self.name = \"John\"\n",
        "\n",
        "  def display_name(self):\n",
        "    print(self.name)\n",
        "\n",
        "n = Public()\n",
        "n.display_name()\n",
        "print(n.name)"
      ]
    },
    {
      "cell_type": "code",
      "source": [
        "class Protected:\n",
        "    def __init__(self):\n",
        "        self._name = 30  # Protected variable (by convention)\n",
        "\n",
        "class Child(Protected):\n",
        "    def __init__(self):\n",
        "        super().__init__()      # Call parent constructor to initialize _name\n",
        "        print(self._name)       # Now _name is accessible\n",
        "\n",
        "    def display(self):\n",
        "        print(\"From display method:\", self._name)\n",
        "\n",
        "# Create object\n",
        "obj = Child()\n",
        "obj.display()\n"
      ],
      "metadata": {
        "colab": {
          "base_uri": "https://localhost:8080/"
        },
        "id": "9yJDhpdRoq-F",
        "outputId": "9158a955-0dba-44e0-e751-6576cc840b1d"
      },
      "execution_count": 4,
      "outputs": [
        {
          "output_type": "stream",
          "name": "stdout",
          "text": [
            "30\n",
            "From display method: 30\n"
          ]
        }
      ]
    },
    {
      "cell_type": "code",
      "source": [
        "class Private:\n",
        "  def __init__(self):\n",
        "    self.__salary = 1000\n",
        "  def salary(self):\n",
        "    return self.__salary\n",
        "\n",
        "  def salary_index(self):\n",
        "    return self.__salary +10\n",
        "\n",
        "s2 = Private()\n",
        "print(s2.salary())"
      ],
      "metadata": {
        "colab": {
          "base_uri": "https://localhost:8080/"
        },
        "id": "jbx4Xm2DpSZk",
        "outputId": "f41cafd6-20ab-4cee-9183-0f0213cc8f59"
      },
      "execution_count": 23,
      "outputs": [
        {
          "output_type": "stream",
          "name": "stdout",
          "text": [
            "1000\n"
          ]
        }
      ]
    },
    {
      "cell_type": "code",
      "source": [
        "class Wallet:\n",
        "  def __init__(self):\n",
        "    self.__balance = 0\n",
        "\n",
        "  def deposit(self, amount):\n",
        "    if amount > 0:\n",
        "      self.__balance += amount\n",
        "\n",
        "  def get_balance(self):\n",
        "    print(self.__balance)\n",
        "    return self.__balance\n",
        "\n",
        "  def get_deposit(self):\n",
        "    return self.__balance\n",
        "\n",
        "b1 = Wallet()\n",
        "b1.deposit(1000)\n",
        "print(b1.get_balance())"
      ],
      "metadata": {
        "colab": {
          "base_uri": "https://localhost:8080/"
        },
        "id": "Y54kuBReqyzQ",
        "outputId": "bdb58b22-13ce-4b24-9c3e-256a2974ac8e"
      },
      "execution_count": 21,
      "outputs": [
        {
          "output_type": "stream",
          "name": "stdout",
          "text": [
            "1000\n",
            "1000\n"
          ]
        }
      ]
    },
    {
      "cell_type": "markdown",
      "source": [
        "**Public** : self.balance = 100 -> can be accessed anywhere\n",
        "\n",
        "\n",
        "**Protected**: self._balance = 100\n",
        "> cannot be accessed anywhere\n",
        "> can be used within the class or subclass\n",
        "\n",
        "\n",
        "**Private** : self.__balance = 100\n",
        "> cannot be accessed directly\n",
        "> executed with the help of functionality"
      ],
      "metadata": {
        "id": "_0vOfJ7Vsl2b"
      }
    },
    {
      "cell_type": "markdown",
      "source": [
        "*Getter -> to get*\n",
        "\n",
        "*Setter -> update*"
      ],
      "metadata": {
        "id": "ZrAD1KtktRP4"
      }
    },
    {
      "cell_type": "code",
      "source": [
        "class Wallet:\n",
        "    def __init__(self):\n",
        "        self.__balance = 0  # private variable\n",
        "\n",
        "    def deposit(self, amount):  # setter\n",
        "        if amount > 0:\n",
        "            self.__balance += amount\n",
        "\n",
        "    def withdraw(self, amount):\n",
        "        if 0 < amount <= self.__balance:\n",
        "            self.__balance -= amount\n",
        "\n",
        "    def get_balance(self):  # getter\n",
        "        print(self.__balance)\n",
        "        return self.__balance\n",
        "\n",
        "b1 = Wallet()\n",
        "b1.deposit(1000)\n",
        "b1.withdraw(400)\n",
        "print(\"Final Balance:\", b1.get_balance())\n",
        "\n",
        "b1.__balance\n"
      ],
      "metadata": {
        "colab": {
          "base_uri": "https://localhost:8080/",
          "height": 211
        },
        "id": "wtu78vkDuFnV",
        "outputId": "671a3d0c-66a6-49c0-d964-96ca23429815"
      },
      "execution_count": 27,
      "outputs": [
        {
          "output_type": "stream",
          "name": "stdout",
          "text": [
            "600\n",
            "Final Balance: 600\n"
          ]
        },
        {
          "output_type": "error",
          "ename": "AttributeError",
          "evalue": "'Wallet' object has no attribute '__balance'",
          "traceback": [
            "\u001b[0;31m---------------------------------------------------------------------------\u001b[0m",
            "\u001b[0;31mAttributeError\u001b[0m                            Traceback (most recent call last)",
            "\u001b[0;32m<ipython-input-27-143c6bfa5706>\u001b[0m in \u001b[0;36m<cell line: 0>\u001b[0;34m()\u001b[0m\n\u001b[1;32m     20\u001b[0m \u001b[0mprint\u001b[0m\u001b[0;34m(\u001b[0m\u001b[0;34m\"Final Balance:\"\u001b[0m\u001b[0;34m,\u001b[0m \u001b[0mb1\u001b[0m\u001b[0;34m.\u001b[0m\u001b[0mget_balance\u001b[0m\u001b[0;34m(\u001b[0m\u001b[0;34m)\u001b[0m\u001b[0;34m)\u001b[0m\u001b[0;34m\u001b[0m\u001b[0;34m\u001b[0m\u001b[0m\n\u001b[1;32m     21\u001b[0m \u001b[0;34m\u001b[0m\u001b[0m\n\u001b[0;32m---> 22\u001b[0;31m \u001b[0mb1\u001b[0m\u001b[0;34m.\u001b[0m\u001b[0m__balance\u001b[0m\u001b[0;34m\u001b[0m\u001b[0;34m\u001b[0m\u001b[0m\n\u001b[0m",
            "\u001b[0;31mAttributeError\u001b[0m: 'Wallet' object has no attribute '__balance'"
          ]
        }
      ]
    },
    {
      "cell_type": "code",
      "source": [
        "class Person:\n",
        "  def __init__(self, name, age):\n",
        "    self.name = name #public\n",
        "    self.__age = age #private\n",
        "\n",
        "  def get_age(self): #getter\n",
        "    return self.__age\n",
        "\n",
        "  def set_age(self, new_age): #setter\n",
        "    if new_age >= 0:\n",
        "      self.__age = new_age\n",
        "    else:\n",
        "      print(\"Invalid age\")\n",
        "\n",
        "p1 = Person(\"Madhu\", 25)\n",
        "print(p1.name)\n",
        "print(p1.get_age())\n",
        "\n",
        "p1.set_age(30)\n",
        "print(p1.get_age())"
      ],
      "metadata": {
        "colab": {
          "base_uri": "https://localhost:8080/"
        },
        "id": "vjvRRkKZu7WW",
        "outputId": "74e3b0f4-28bd-4fdb-ea8c-c49634c560b8"
      },
      "execution_count": 30,
      "outputs": [
        {
          "output_type": "stream",
          "name": "stdout",
          "text": [
            "Madhu\n",
            "25\n",
            "30\n"
          ]
        }
      ]
    },
    {
      "cell_type": "markdown",
      "source": [],
      "metadata": {
        "id": "ivs_E45SxTgY"
      }
    },
    {
      "cell_type": "code",
      "source": [
        "class Person:\n",
        "  def __init__(self, name, age):\n",
        "    self.name = name #public\n",
        "    self.__age = age #private\n",
        "\n",
        "\n",
        "  @property #--> magic method\n",
        "  def g_age(self): #getter\n",
        "    return self.__age\n",
        "\n",
        "  @g_age.setter\n",
        "  def g_age(self, new_age): #setter\n",
        "    if new_age >= 0:\n",
        "      self.__age = new_age\n",
        "    else:\n",
        "      print(\"Invalid age\")\n",
        "\n",
        "  @property\n",
        "  def g_phone(self):\n",
        "    return self.__phone\n",
        "\n",
        "  @g_phone.setter\n",
        "  def g_phone(self, phone):\n",
        "    if len(phone) == 9:\n",
        "      self.__phone = phone\n",
        "    else:\n",
        "      self.__phone = \"Invalid phone number\"\n",
        "\n",
        "p1 = Person(\"Madhu\", 25)\n",
        "print(p1.name)\n",
        "print(p1.g_age)\n",
        "\n",
        "p1.g_age = 30\n",
        "print(p1.g_age)\n",
        "p1.g_phone = \"123456789\"\n",
        "print(p1.g_phone)\n"
      ],
      "metadata": {
        "colab": {
          "base_uri": "https://localhost:8080/"
        },
        "id": "jolwjrHaxa45",
        "outputId": "628b40ed-0c9f-48ce-b045-a38a11c09183"
      },
      "execution_count": 49,
      "outputs": [
        {
          "output_type": "stream",
          "name": "stdout",
          "text": [
            "Madhu\n",
            "25\n",
            "30\n",
            "123456789\n"
          ]
        }
      ]
    },
    {
      "cell_type": "markdown",
      "source": [
        "***Wallet***"
      ],
      "metadata": {
        "id": "J12TnjW21pAn"
      }
    },
    {
      "cell_type": "code",
      "source": [
        "class Wallet:\n",
        "    def __init__(self, balance, money):\n",
        "        self.__balance = balance   # private\n",
        "        self.__money = money       # private\n",
        "\n",
        "    @property\n",
        "    def g_balance(self):  # Getter\n",
        "        return self.__balance\n",
        "\n",
        "    @g_balance.setter\n",
        "    def g_balance(self, new_balance):  # Setter\n",
        "        if new_balance >= 0:\n",
        "            self.__balance = new_balance\n",
        "        else:\n",
        "            print(\"Cannot be negative\")\n",
        "\n",
        "    @property\n",
        "    def g_money(self):  # Getter\n",
        "        return self.__money\n",
        "\n",
        "    @g_money.setter\n",
        "    def g_money(self, new_money):  # Setter\n",
        "        if len(new_money) == 3:\n",
        "            self.__money = new_money\n",
        "        else:\n",
        "            print(\"Invalid currency \")\n",
        "\n",
        "wallet = Wallet(1000, \"INR\")\n",
        "\n",
        "print(wallet.g_balance)\n",
        "print(wallet.g_money)\n",
        "\n",
        "wallet.g_balance = 1800\n",
        "wallet.g_money = \"USD\"\n",
        "print(wallet.g_balance)\n",
        "print(wallet.g_money)\n"
      ],
      "metadata": {
        "colab": {
          "base_uri": "https://localhost:8080/"
        },
        "id": "9_aKckrk2N3y",
        "outputId": "a7a30649-7479-45af-e9a9-d01bbf19b322"
      },
      "execution_count": 60,
      "outputs": [
        {
          "output_type": "stream",
          "name": "stdout",
          "text": [
            "1000\n",
            "INR\n",
            "1800\n",
            "USD\n"
          ]
        }
      ]
    },
    {
      "cell_type": "code",
      "source": [
        "class Wallet:\n",
        "    def __init__(self, balance, money):\n",
        "        self.__balance = balance   # private\n",
        "        self.__money = money       # private\n",
        "    @property\n",
        "    def g_balance(self):  # Getter\n",
        "        return self.__balance\n",
        "    @g_balance.setter\n",
        "    def g_balance(self, new_balance):  # Setter\n",
        "        if new_balance >= 0:\n",
        "            self.__balance = new_balance\n",
        "        else:\n",
        "            self.__balance = \"Cannot be negative\"\n",
        "            #print(\"Cannot be negative\")\n",
        "    @property\n",
        "    def g_money(self):  # Getter\n",
        "        return self.__money\n",
        "    @g_money.setter\n",
        "    def g_money(self, new_money):  # Setter\n",
        "        if len(new_money) == 3:\n",
        "            self.__money = new_money\n",
        "        else:\n",
        "            print(\"Invalid currency \")\n",
        "wallet = Wallet(1000, \"INR\")\n",
        "print(wallet.g_balance)\n",
        "print(wallet.g_money)\n",
        "wallet.g_balance = -1800\n",
        "wallet.g_money = \"USD\"\n",
        "print(wallet.g_balance)\n",
        "print(wallet.g_money)"
      ],
      "metadata": {
        "colab": {
          "base_uri": "https://localhost:8080/"
        },
        "id": "UeXpj9TS6Fal",
        "outputId": "1f905260-34a2-497c-bd6b-60eddb69ea0c"
      },
      "execution_count": 61,
      "outputs": [
        {
          "output_type": "stream",
          "name": "stdout",
          "text": [
            "1000\n",
            "INR\n",
            "Cannot be negative\n",
            "USD\n"
          ]
        }
      ]
    },
    {
      "cell_type": "code",
      "source": [
        "class wallet:\n",
        "    def __init__(self, balance, cards, photo):\n",
        "        self.balance = balance  # public\n",
        "        self._cards = cards  # protected\n",
        "        self.__photo = photo  # private\n",
        "    @property\n",
        "    def g_cards(self):\n",
        "        return self.__photo\n",
        "    @g_cards.setter\n",
        "    def g_cards(self, photo):\n",
        "        if cards >= 1:  # Assuming 'cards' is intended here\n",
        "            self.__cards = cards\n",
        "        else:\n",
        "            print(\"no cards\")\n",
        "    @property\n",
        "    def g_photo(self):\n",
        "        return self.__photo\n",
        "    @g_photo.setter\n",
        "    def g_photo(self, photo):\n",
        "        if photo >= 1:\n",
        "            self.__photo = photo\n",
        "        else:\n",
        "            print(\"no photo\")\n",
        "# Create an instance of the class outside the class definition\n",
        "w = wallet(2000, 3, 1)\n",
        "print(w.balance)\n",
        "print(w.g_cards)\n",
        "print(w.g_photo)"
      ],
      "metadata": {
        "colab": {
          "base_uri": "https://localhost:8080/"
        },
        "id": "sO-qpAdE8Iib",
        "outputId": "1d3d829f-6f06-4618-82d0-3d7db7face15"
      },
      "execution_count": 2,
      "outputs": [
        {
          "output_type": "stream",
          "name": "stdout",
          "text": [
            "2000\n",
            "1\n",
            "1\n"
          ]
        }
      ]
    },
    {
      "cell_type": "code",
      "source": [
        "class wallet:\n",
        "    def __init__(self, balance, cards, photo):\n",
        "        self.balance = balance  # public\n",
        "        self._cards = cards  # protected\n",
        "        self.__photo = photo  # private\n",
        "\n",
        "    @property\n",
        "    def g_cards(self):\n",
        "        return self._cards\n",
        "\n",
        "    @g_cards.setter\n",
        "    def g_cards(self, cards):\n",
        "        if cards >= 1:  # Assuming 'cards' is intended here\n",
        "            self._cards = cards\n",
        "        else:\n",
        "            print(\"no cards\")\n",
        "\n",
        "    @property\n",
        "    def g_photo(self):\n",
        "        return self.__photo\n",
        "\n",
        "    @g_photo.setter\n",
        "    def g_photo(self, photo):\n",
        "        if photo:\n",
        "            self.__photo = photo\n",
        "        else:\n",
        "            print(\"no photo\")\n",
        "\n",
        "# Create an instance of the class outside the class definition\n",
        "w = wallet(2000, 3, 1)\n",
        "print(w.balance)\n",
        "print(w.g_cards)\n",
        "print(w.g_photo)\n"
      ],
      "metadata": {
        "colab": {
          "base_uri": "https://localhost:8080/"
        },
        "id": "uG7Bmuye8UWz",
        "outputId": "90f48972-eb28-4f73-b7b1-5e6a379d63e8"
      },
      "execution_count": 1,
      "outputs": [
        {
          "output_type": "stream",
          "name": "stdout",
          "text": [
            "2000\n",
            "3\n",
            "1\n"
          ]
        }
      ]
    }
  ]
}